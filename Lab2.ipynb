{
  "cells": [
    {
      "cell_type": "markdown",
      "metadata": {
        "id": "view-in-github",
        "colab_type": "text"
      },
      "source": [
        "<a href=\"https://colab.research.google.com/github/imahrukh/AttendEase/blob/main/Lab2.ipynb\" target=\"_parent\"><img src=\"https://colab.research.google.com/assets/colab-badge.svg\" alt=\"Open In Colab\"/></a>"
      ]
    },
    {
      "cell_type": "code",
      "execution_count": null,
      "metadata": {
        "id": "KXkro8-7bTDc",
        "colab": {
          "base_uri": "https://localhost:8080/"
        },
        "outputId": "fe016291-3a90-4b5e-d0eb-b1491fe00886"
      },
      "outputs": [
        {
          "output_type": "stream",
          "name": "stdout",
          "text": [
            "Enter the number of chickens you want to pass: 12\n",
            "Number of chickens: many\n"
          ]
        }
      ],
      "source": [
        "def chickens(count):\n",
        "  # +++your code here+++\n",
        "  if count >= 10:\n",
        "    return 'Number of chickens: many'\n",
        "  else:\n",
        "    return f'Number of chickens: {count}'\n",
        "  pass\n",
        "\n",
        "#if __name__ == '__main__':\n",
        "#  print(chickens(int(input(\"Enter the number of chickens you want to pass: \"))))"
      ]
    },
    {
      "cell_type": "code",
      "execution_count": null,
      "metadata": {
        "id": "-Bzoj_dxbab4",
        "colab": {
          "base_uri": "https://localhost:8080/"
        },
        "outputId": "8a04f0d8-f736-4ef8-d007-4d146f8599f3"
      },
      "outputs": [
        {
          "output_type": "stream",
          "name": "stdout",
          "text": [
            "Enter the string: oo\n",
            "\n"
          ]
        }
      ],
      "source": [
        "def string_both_ends_3(s):\n",
        "  if len(s)<3:\n",
        "    return ''\n",
        "  return s[:3]+s[-3:]\n",
        "  pass\n",
        "#if __name__ == '__main__':\n",
        "#  print(string_both_ends_3(input(\"Enter the string: \")))"
      ]
    },
    {
      "cell_type": "code",
      "execution_count": null,
      "metadata": {
        "id": "89-n4vxQbcQ2",
        "colab": {
          "base_uri": "https://localhost:8080/"
        },
        "outputId": "1bf97305-d80b-428d-a0d3-c8a11f997cd5"
      },
      "outputs": [
        {
          "output_type": "stream",
          "name": "stdout",
          "text": [
            "Enter the string: poop\n",
            "poo@\n"
          ]
        }
      ],
      "source": [
        "def first_char_replace(s):\n",
        "  # +++your code here+++\n",
        "  if not s:\n",
        "    return s\n",
        "  firstChar =s[0]\n",
        "  newStr =firstChar+ s[1:].replace(firstChar,'@')\n",
        "  return newStr\n",
        "  pass\n",
        "#if __name__ == '__main__':\n",
        "#  print(first_char_replace(input(\"Enter the string: \")))"
      ]
    },
    {
      "cell_type": "code",
      "execution_count": null,
      "metadata": {
        "id": "2kbjAlDBbeLl",
        "colab": {
          "base_uri": "https://localhost:8080/"
        },
        "outputId": "f17b2ccf-4309-4341-824b-06ddea2ff892"
      },
      "outputs": [
        {
          "output_type": "stream",
          "name": "stdout",
          "text": [
            "Enter 1st string to jumble: mic\n",
            "Enter the 2nd string to jumble: pod\n",
            "poc mid\n"
          ]
        }
      ],
      "source": [
        "def string_jumble(a, b):\n",
        "  # +++your code here+++\n",
        "  if len(a)<2 or len(b)<2:\n",
        "    return \"string lengths should be 2 or more\"\n",
        "  newA= b[:2]+a[2:]\n",
        "  newB = a[:2]+b[2:]\n",
        "  return newA+' '+newB\n",
        "  pass\n",
        "\n",
        "  # LAB(end solution)\n",
        "#if __name__ =='__main__':\n",
        "#  a= input('Enter 1st string to jumble: ')\n",
        "#  b=input('Enter the 2nd string to jumble: ')\n",
        "#  print(string_jumble(a,b))"
      ]
    },
    {
      "cell_type": "code",
      "execution_count": null,
      "metadata": {
        "id": "7yLC3ffrbges",
        "colab": {
          "base_uri": "https://localhost:8080/"
        },
        "outputId": "971e6b20-5a6a-4e13-aa60-80becbe72f51"
      },
      "outputs": [
        {
          "output_type": "stream",
          "name": "stdout",
          "text": [
            "6\n"
          ]
        }
      ],
      "source": [
        "def match_first_last(words):\n",
        "  # +++your code here+++\n",
        "  count =0\n",
        "  for word in words:\n",
        "    if len(word)>=2 and word[0] == word[-1]:\n",
        "      count +=1\n",
        "  return count\n",
        "  pass\n",
        "\n",
        "#if __name__ =='__main__':\n",
        "#  print(match_first_last(['level','mix','xyz','a', 'valentine', 'lol', 'loml', 'lo', 'll', 'l', 'bob', 'valv']))"
      ]
    },
    {
      "cell_type": "code",
      "execution_count": null,
      "metadata": {
        "id": "-KSpx8tDbiNr",
        "colab": {
          "base_uri": "https://localhost:8080/"
        },
        "outputId": "814d7a8c-63d8-4868-c10f-e2655913bc39"
      },
      "outputs": [
        {
          "output_type": "stream",
          "name": "stdout",
          "text": [
            "['aavacado', 'apple', 'baan', 'banana', 'deap', 'fig']\n"
          ]
        }
      ],
      "source": [
        "def group_strings(words):\n",
        "  # +++your code here+++\n",
        "  a= sorted([word for word in words if word.startswith('a')])\n",
        "  other=sorted([word for word in words if not word.startswith('a')])\n",
        "  return a+other\n",
        "  pass\n",
        "#if __name__ =='__main__':\n",
        "#  print(group_strings(['apple', 'banana', 'aavacado', 'fig','baan', 'deap']))"
      ]
    },
    {
      "cell_type": "code",
      "execution_count": null,
      "metadata": {
        "id": "bbdfkeD7bmFr",
        "colab": {
          "base_uri": "https://localhost:8080/"
        },
        "outputId": "fefc70d4-d235-4267-fc6a-d5f0ab7885b4"
      },
      "outputs": [
        {
          "output_type": "stream",
          "name": "stdout",
          "text": [
            "[(2, 2), (1, 3), (3, 4, 5), (1, 7)]\n"
          ]
        }
      ],
      "source": [
        "def sort_last(tuples):\n",
        "  # +++your code here+++\n",
        "  return sorted(tuples, key =lambda x : x[-1])\n",
        "  pass\n",
        "#if __name__ =='__main__':\n",
        "#  print(sort_last([(1,7),(1,3),(3,4,5),(2,2)]))"
      ]
    },
    {
      "cell_type": "code",
      "execution_count": null,
      "metadata": {
        "id": "T8E4jaD5bnzK"
      },
      "outputs": [],
      "source": [
        "def main():\n",
        "  print ('Number of chickens')\n",
        "  print(chickens(4))\n",
        "  print(chickens(9))\n",
        "  print(chickens(10))\n",
        "  print(chickens(99))\n",
        "\n",
        "  print ('\\n3 characters from both ends')\n",
        "  print(string_both_ends_3('spring'))\n",
        "  print(string_both_ends_3('Intelligence'))\n",
        "  print(string_both_ends_3('a'))\n",
        "  print(string_both_ends_3('xyz'))\n",
        "\n",
        "  print ('\\nReplace occurrences of first character')\n",
        "  print(first_char_replace('babble'))\n",
        "  print(first_char_replace('aardvark'))\n",
        "  print(first_char_replace('google'))\n",
        "  print(first_char_replace('ooogle'))\n",
        "\n",
        "  print ('\\nString Jumble')\n",
        "  print(string_jumble('mix', 'pod'))\n",
        "  print(string_jumble('dog', 'dinner'))\n",
        "  print(string_jumble('gnash', 'sport'))\n",
        "  print(string_jumble('pezzy', 'firm'))\n",
        "\n",
        "  print ('\\nMatching first and last characters')\n",
        "  print(match_first_last(['aba', 'xyz', 'aa', 'a', 'bbb']))\n",
        "  print(match_first_last(['', 'x', 'ay', 'ayx', 'ax']))\n",
        "  print(match_first_last(['aaa', 'be', 'abc', 'aello']))\n",
        "\n",
        "  print ('\\nGroup string in a list')\n",
        "  print(group_strings(['bbb', 'ccc', 'axx', 'xzz', 'aaa']))\n",
        "  print(group_strings(['ccc', 'abb', 'aaa', 'xcc', 'aaa']))\n",
        "  print(group_strings(['mix', 'xyz', 'apple', 'xanadu', 'aardvark']))\n",
        "\n",
        "  print ('\\nsort_last')\n",
        "  print(sort_last([(1, 3), (3, 2), (2, 1)]))\n",
        "  print(sort_last([(2, 3), (1, 2), (3, 1)]))\n",
        "  print(sort_last([(1, 7), (1, 3), (3, 4, 5), (2, 2)]))"
      ]
    },
    {
      "cell_type": "code",
      "execution_count": null,
      "metadata": {
        "id": "cAmJUqYJbpwR",
        "colab": {
          "base_uri": "https://localhost:8080/"
        },
        "outputId": "fd3a7abc-4a98-45f5-c0d4-ec159f86654b"
      },
      "outputs": [
        {
          "output_type": "stream",
          "name": "stdout",
          "text": [
            "Number of chickens\n",
            "Number of chickens: 4\n",
            "Number of chickens: 9\n",
            "Number of chickens: many\n",
            "Number of chickens: many\n",
            "\n",
            "3 characters from both ends\n",
            "spring\n",
            "Intnce\n",
            "\n",
            "xyzxyz\n",
            "\n",
            "Replace occurrences of first character\n",
            "ba@@le\n",
            "a@rdv@rk\n",
            "goo@le\n",
            "o@@gle\n",
            "\n",
            "String Jumble\n",
            "pox mid\n",
            "dig donner\n",
            "spash gnort\n",
            "fizzy perm\n",
            "\n",
            "Matching first and last characters\n",
            "3\n",
            "0\n",
            "1\n",
            "\n",
            "Group string in a list\n",
            "['aaa', 'axx', 'bbb', 'ccc', 'xzz']\n",
            "['aaa', 'aaa', 'abb', 'ccc', 'xcc']\n",
            "['aardvark', 'apple', 'mix', 'xanadu', 'xyz']\n",
            "\n",
            "sort_last\n",
            "[(2, 1), (3, 2), (1, 3)]\n",
            "[(3, 1), (1, 2), (2, 3)]\n",
            "[(2, 2), (1, 3), (3, 4, 5), (1, 7)]\n"
          ]
        }
      ],
      "source": [
        "'''\n",
        "Python files .py are modules. Modules can define variables, functions, and classes.\n",
        "When a Python interpreter reads a Python file, it first sets a few special variables.\n",
        "Then it executes the code from the file.\n",
        "\n",
        "One of those variables is called __name__.\n",
        "\n",
        "When the interpreter runs a module, the __name__ variable will be set as  __main__\n",
        "if the module that is being run is the main program.\n",
        "\n",
        "If the code is importing the module from another module, then the __name__\n",
        "variable will be set to that module’s name.\n",
        "'''\n",
        "# Standard boilerplate to call the main() function.\n",
        "if __name__ == '__main__':\n",
        "  main()"
      ]
    },
    {
      "cell_type": "code",
      "source": [
        "def palindrome(s):\n",
        "  return s== s[::-1]\n",
        "\n",
        "if(palindrome(input(\"Enter string to check palindrome: \"))):\n",
        "  print('Yes')\n",
        "else:\n",
        "  print('No palindrome')"
      ],
      "metadata": {
        "colab": {
          "base_uri": "https://localhost:8080/"
        },
        "id": "WsQ0EviGwt4H",
        "outputId": "bd628010-c539-48cd-9cd8-424f522b09c3"
      },
      "execution_count": null,
      "outputs": [
        {
          "output_type": "stream",
          "name": "stdout",
          "text": [
            "Enter string to check palindrome: 123321\n",
            "Yes\n"
          ]
        }
      ]
    },
    {
      "cell_type": "code",
      "source": [
        "def flatten(lists):\n",
        "  flat =[]\n",
        "  for item in lists:\n",
        "    if isinstance(item, list):\n",
        "      flat.extend(flatten(item))\n",
        "    else:\n",
        "      flat.append(item)\n",
        "  return flat\n",
        "print(flatten([[1,2,3],[2,3,4],[5,6],[1,2,7]]))\n"
      ],
      "metadata": {
        "colab": {
          "base_uri": "https://localhost:8080/"
        },
        "id": "SsIWn-wvy5xY",
        "outputId": "6434b623-9d5a-401e-b87e-8b3dd9bd40b9"
      },
      "execution_count": 1,
      "outputs": [
        {
          "output_type": "stream",
          "name": "stdout",
          "text": [
            "[1, 2, 3, 2, 3, 4, 5, 6, 1, 2, 7]\n"
          ]
        }
      ]
    },
    {
      "cell_type": "code",
      "source": [
        "def common(list1, list2):\n",
        "  common = []\n",
        "  for element in list1:\n",
        "    if element in list2 and element not in common:\n",
        "      common.append(element)\n",
        "  return common\n",
        "\n",
        "print(common([1,2,3,4],[1,2,3,5,6]))"
      ],
      "metadata": {
        "colab": {
          "base_uri": "https://localhost:8080/"
        },
        "id": "_y7jZRuOVBnQ",
        "outputId": "79b6928e-afb8-4f24-823b-d836ffbbb396"
      },
      "execution_count": 4,
      "outputs": [
        {
          "output_type": "stream",
          "name": "stdout",
          "text": [
            "[1, 2, 3]\n"
          ]
        }
      ]
    },
    {
      "cell_type": "code",
      "source": [
        "def is_anagram(str1, str2):\n",
        "    str1 = str1.lower()\n",
        "    str2 = str2.lower()\n",
        "    return sorted(str1) == sorted(str2)\n",
        "\n",
        "string1 = input(\"Enter the first string: \")\n",
        "string2 = input(\"Enter the second string: \")\n",
        "if is_anagram(string1, string2):\n",
        "    print(f\"'{string1}' and '{string2}' are anagrams.\")\n",
        "else:\n",
        "    print(f\"'{string1}' and '{string2}' are not anagrams.\")\n"
      ],
      "metadata": {
        "colab": {
          "base_uri": "https://localhost:8080/"
        },
        "id": "0IeBm-BkVRGL",
        "outputId": "d615cebd-6a4b-4543-e04f-be2fa22eaca6"
      },
      "execution_count": 5,
      "outputs": [
        {
          "output_type": "stream",
          "name": "stdout",
          "text": [
            "Enter the first string: hello\n",
            "Enter the second string: elohl\n",
            "'hello' and 'elohl' are anagrams.\n"
          ]
        }
      ]
    },
    {
      "cell_type": "code",
      "source": [
        "def binary_search(sorted_list, target):\n",
        "    low = 0\n",
        "    high = len(sorted_list) - 1\n",
        "\n",
        "    while low <= high:\n",
        "        mid = (low + high) // 2\n",
        "        if sorted_list[mid] == target:\n",
        "            return mid\n",
        "        elif sorted_list[mid] < target:\n",
        "            low = mid + 1\n",
        "        else:\n",
        "            high = mid - 1\n",
        "\n",
        "    return -1\n",
        "\n",
        "print(binary_search([1,2,3,4,5,6,7,8,9], 5))"
      ],
      "metadata": {
        "colab": {
          "base_uri": "https://localhost:8080/"
        },
        "id": "RzQYWEgMW3_L",
        "outputId": "a4e18c4a-b435-4b9b-d16e-9261e6134744"
      },
      "execution_count": 6,
      "outputs": [
        {
          "output_type": "stream",
          "name": "stdout",
          "text": [
            "4\n"
          ]
        }
      ]
    },
    {
      "cell_type": "code",
      "source": [
        "def merge_sort(data):\n",
        "    if len(data) <= 1:\n",
        "        return data\n",
        "\n",
        "    mid = len(data) // 2\n",
        "    left_half = data[:mid]\n",
        "    right_half = data[mid:]\n",
        "\n",
        "    left_half = merge_sort(left_half)\n",
        "    right_half = merge_sort(right_half)\n",
        "    return merge(left_half, right_half)\n",
        "\n",
        "def merge(left, right):\n",
        "    merged = []\n",
        "    i = j = 0\n",
        "\n",
        "    while i < len(left) and j < len(right):\n",
        "        if left[i] <= right[j]:\n",
        "            merged.append(left[i])\n",
        "            i += 1\n",
        "        else:\n",
        "            merged.append(right[j])\n",
        "            j += 1\n",
        "\n",
        "    merged.extend(left[i:])\n",
        "    merged.extend(right[j:])\n",
        "\n",
        "    return merged\n",
        "\n",
        "print(merge_sort([3, 1, 4, 1, 5, 9, 2, 6, 5, 3, 5]))"
      ],
      "metadata": {
        "colab": {
          "base_uri": "https://localhost:8080/"
        },
        "id": "adeydHOyXLZU",
        "outputId": "22a431c4-f263-497b-a277-b01b9a88f7e2"
      },
      "execution_count": 7,
      "outputs": [
        {
          "output_type": "stream",
          "name": "stdout",
          "text": [
            "[1, 1, 2, 3, 3, 4, 5, 5, 5, 6, 9]\n"
          ]
        }
      ]
    },
    {
      "cell_type": "code",
      "source": [
        "def frequency_count(data):\n",
        "    frequency = {}\n",
        "    for element in data:\n",
        "        if element in frequency:\n",
        "            frequency[element] += 1\n",
        "        else:\n",
        "            frequency[element] = 1\n",
        "    return frequency\n",
        "print(frequency_count([1,2,3,1,2,3,4,5,6,7,8,9,4,9,1]))"
      ],
      "metadata": {
        "colab": {
          "base_uri": "https://localhost:8080/"
        },
        "id": "JcoJQuamY7Sc",
        "outputId": "c333fdab-3cc4-4ec8-d937-afa75e9b5522"
      },
      "execution_count": 9,
      "outputs": [
        {
          "output_type": "stream",
          "name": "stdout",
          "text": [
            "{1: 3, 2: 2, 3: 2, 4: 2, 5: 1, 6: 1, 7: 1, 8: 1, 9: 2}\n"
          ]
        }
      ]
    },
    {
      "cell_type": "code",
      "source": [
        "def count_distinct(lst):\n",
        "    return len(set(lst))\n",
        "\n",
        "numbers = [1, 2, 2, 3, 4, 2]\n",
        "print(count_distinct(numbers))\n"
      ],
      "metadata": {
        "colab": {
          "base_uri": "https://localhost:8080/"
        },
        "id": "WHRyej8PaO1e",
        "outputId": "0274f11e-f430-4f08-ecf0-239e97f697ab"
      },
      "execution_count": 10,
      "outputs": [
        {
          "output_type": "stream",
          "name": "stdout",
          "text": [
            "4\n"
          ]
        }
      ]
    },
    {
      "cell_type": "code",
      "source": [
        "def union_intersection(set1, set2):\n",
        "    union_set = set1 | set2\n",
        "    intersection_set = set1 & set2\n",
        "    return union_set, intersection_set\n",
        "\n",
        "set_a = {1, 2, 3, 4}\n",
        "set_b = {3, 4, 5, 6}\n",
        "result = union_intersection(set_a, set_b)\n",
        "print(\"Union:\", result[0])\n",
        "print(\"Intersection:\", result[1])\n"
      ],
      "metadata": {
        "colab": {
          "base_uri": "https://localhost:8080/"
        },
        "id": "WvRd0G_6acva",
        "outputId": "ad08c0be-1e14-41d8-e617-b7ef5a88cb66"
      },
      "execution_count": 12,
      "outputs": [
        {
          "output_type": "stream",
          "name": "stdout",
          "text": [
            "Union: {1, 2, 3, 4, 5, 6}\n",
            "Intersection: {3, 4}\n"
          ]
        }
      ]
    },
    {
      "cell_type": "code",
      "source": [
        "def unique_values(dictionary):\n",
        "    return list(set(dictionary.values()))\n",
        "\n",
        "\n",
        "print(unique_values({'a': 1, 'b': 2, 'c': 2, 'd': 3, 'e': 1}))"
      ],
      "metadata": {
        "colab": {
          "base_uri": "https://localhost:8080/"
        },
        "id": "sEtyOSe7cSA8",
        "outputId": "f0f7d11a-0cd1-4b41-c506-1354e98c1521"
      },
      "execution_count": 13,
      "outputs": [
        {
          "output_type": "stream",
          "name": "stdout",
          "text": [
            "[1, 2, 3]\n"
          ]
        }
      ]
    },
    {
      "cell_type": "code",
      "source": [
        "def most_frequent_keys(dictionary):\n",
        "    value_counts = {}\n",
        "    for value in dictionary.values():\n",
        "        value_counts[value] = value_counts.get(value, 0) + 1\n",
        "\n",
        "\n",
        "    max_count = max(value_counts.values())\n",
        "    most_frequent_values = [val for val, count in value_counts.items() if count == max_count]\n",
        "    most_frequent_keys = [key for key, value in dictionary.items() if value in most_frequent_values]\n",
        "\n",
        "    return most_frequent_keys\n",
        "\n",
        "print(most_frequent_keys({'a': 1, 'b': 2, 'c': 2, 'd': 3, 'e': 1}))\n"
      ],
      "metadata": {
        "colab": {
          "base_uri": "https://localhost:8080/"
        },
        "id": "KIHPavIZc681",
        "outputId": "ad85a50d-956d-450f-c7ab-7f29bc9acb42"
      },
      "execution_count": 16,
      "outputs": [
        {
          "output_type": "stream",
          "name": "stdout",
          "text": [
            "['a', 'b', 'c', 'e']\n"
          ]
        }
      ]
    },
    {
      "cell_type": "code",
      "source": [
        "def merge_dicts(d1, d2):\n",
        "    merged_dict = d2.copy()\n",
        "    merged_dict.update(d1)\n",
        "    return merged_dict\n",
        "\n",
        "print(merge_dicts({'a': 1, 'b': 2, 'c': 3}, {'b': 10, 'c': 20, 'd': 30}))\n"
      ],
      "metadata": {
        "colab": {
          "base_uri": "https://localhost:8080/"
        },
        "id": "Tm8EUbyddrTI",
        "outputId": "972ca6b1-fdc1-4409-e8df-0b17228abf9a"
      },
      "execution_count": 17,
      "outputs": [
        {
          "output_type": "stream",
          "name": "stdout",
          "text": [
            "{'b': 2, 'c': 3, 'd': 30, 'a': 1}\n"
          ]
        }
      ]
    },
    {
      "cell_type": "code",
      "source": [
        "def filter_dicts_by_key(dict_list, key):\n",
        "    return [d for d in dict_list if key in d]\n",
        "\n",
        "print(filter_dicts_by_key( [\n",
        "    {'name': 'Alice', 'age': 25},\n",
        "    {'name': 'Bob'},\n",
        "    {'age': 30, 'city': 'New York'},\n",
        "    {'name': 'Charlie', 'age': 35}], 'age'))"
      ],
      "metadata": {
        "colab": {
          "base_uri": "https://localhost:8080/"
        },
        "id": "XLMQM4RYfEa4",
        "outputId": "624faf4f-487c-48e6-af5c-7e759af137f8"
      },
      "execution_count": 19,
      "outputs": [
        {
          "output_type": "stream",
          "name": "stdout",
          "text": [
            "[{'name': 'Alice', 'age': 25}, {'age': 30, 'city': 'New York'}, {'name': 'Charlie', 'age': 35}]\n"
          ]
        }
      ]
    },
    {
      "cell_type": "code",
      "source": [
        "def find_duplicates(lst):\n",
        "    seen = set()\n",
        "    duplicates = set()\n",
        "    for num in lst:\n",
        "        if num in seen:\n",
        "            duplicates.add(num)\n",
        "        else:\n",
        "            seen.add(num)\n",
        "    return list(duplicates)\n",
        "\n",
        "print(find_duplicates([1, 2, 2, 3, 4, 2, 3, 5]))\n"
      ],
      "metadata": {
        "colab": {
          "base_uri": "https://localhost:8080/"
        },
        "id": "uFkYssBDfnaM",
        "outputId": "ea3bdc4b-29ee-43e5-a859-c38532f246e0"
      },
      "execution_count": 20,
      "outputs": [
        {
          "output_type": "stream",
          "name": "stdout",
          "text": [
            "[2, 3]\n"
          ]
        }
      ]
    }
  ],
  "metadata": {
    "colab": {
      "provenance": [],
      "include_colab_link": true
    },
    "kernelspec": {
      "name": "python3",
      "display_name": "Python 3"
    },
    "language_info": {
      "name": "python"
    }
  },
  "nbformat": 4,
  "nbformat_minor": 0
}